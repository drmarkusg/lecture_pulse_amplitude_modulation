{
 "cells": [
  {
   "cell_type": "markdown",
   "metadata": {},
   "source": [
    "# PAM for Analog Source Signals\n",
    "Markus Gardill, 2019"
   ]
  },
  {
   "cell_type": "code",
   "execution_count": null,
   "metadata": {},
   "outputs": [],
   "source": [
    "import numpy as np\n",
    "# for interactive plots\n",
    "from bokeh.plotting import figure, show, output_notebook\n",
    "from bokeh.layouts import gridplot, row, column\n",
    "from bokeh.resources import INLINE\n",
    "import matplotlib.pyplot as plt\n",
    "\n",
    "import scipy.interpolate\n",
    "import scipy.io.wavfile\n",
    "\n",
    "import os\n",
    "\n",
    "from IPython.display import Audio"
   ]
  },
  {
   "cell_type": "code",
   "execution_count": null,
   "metadata": {},
   "outputs": [],
   "source": [
    "output_notebook(resources=INLINE)"
   ]
  },
  {
   "cell_type": "code",
   "execution_count": null,
   "metadata": {},
   "outputs": [],
   "source": [
    "os.getcwd()"
   ]
  },
  {
   "cell_type": "markdown",
   "metadata": {},
   "source": [
    "## Symbol Definitions"
   ]
  },
  {
   "cell_type": "markdown",
   "metadata": {},
   "source": [
    "### For the PAM Signal"
   ]
  },
  {
   "cell_type": "markdown",
   "metadata": {},
   "source": [
    "The sampling rate $f_s$ as well as sampling period $T_S$"
   ]
  },
  {
   "cell_type": "code",
   "execution_count": null,
   "metadata": {},
   "outputs": [],
   "source": [
    "f_s = 1\n",
    "T_s = 1/f_s "
   ]
  },
  {
   "cell_type": "markdown",
   "metadata": {},
   "source": [
    "Define the overall signal/simulation length such that we have $N$ samples"
   ]
  },
  {
   "cell_type": "code",
   "execution_count": null,
   "metadata": {},
   "outputs": [],
   "source": [
    "N = 89.45\n",
    "T = N * T_s"
   ]
  },
  {
   "cell_type": "markdown",
   "metadata": {},
   "source": [
    "Define simulation time vector"
   ]
  },
  {
   "cell_type": "code",
   "execution_count": null,
   "metadata": {},
   "outputs": [],
   "source": [
    "t = np.arange(0,T,T_s)"
   ]
  },
  {
   "cell_type": "markdown",
   "metadata": {},
   "source": [
    "### For the Source Signal\n",
    "Since any signal representation on a computer is of discrete-time nature, a continuos-time signal is approximated using a sufficiently large sampling frequency `f_sim`. In addition, an integer multiple `N_sim` between sampling rate of PAM signal and the sampling rate `f_sim` is used to simplify a later expression of the sampling process."
   ]
  },
  {
   "cell_type": "code",
   "execution_count": null,
   "metadata": {},
   "outputs": [],
   "source": [
    "f_s_sim = 100*f_s\n",
    "T_s_sim = 1/f_s_sim\n",
    "t_sim = np.arange(0,T,T_s_sim)"
   ]
  },
  {
   "cell_type": "markdown",
   "metadata": {},
   "source": [
    "## Source Signal"
   ]
  },
  {
   "cell_type": "code",
   "execution_count": null,
   "metadata": {},
   "outputs": [],
   "source": [
    "f_source = f_s/8"
   ]
  },
  {
   "cell_type": "code",
   "execution_count": null,
   "metadata": {},
   "outputs": [],
   "source": [
    "s = np.sin(2*np.pi*f_source*t_sim)"
   ]
  },
  {
   "cell_type": "code",
   "execution_count": null,
   "metadata": {},
   "outputs": [],
   "source": [
    "fig = figure(width = 800, height = 250)\n",
    "fig.line(x=t_sim, y=s)\n",
    "fig.xaxis.axis_label = 't'\n",
    "fig.yaxis.axis_label = 's(t)'\n",
    "show(fig)"
   ]
  },
  {
   "cell_type": "markdown",
   "metadata": {},
   "source": [
    "## PAM Signal using Ideal Pulses"
   ]
  },
  {
   "cell_type": "markdown",
   "metadata": {},
   "source": [
    "The ideal PAM signal is defined as\n",
    "$$m(t) = \\sum\\limits_{k=-\\infty}^{\\infty} s(kT) \\delta(t-kT)$$"
   ]
  },
  {
   "cell_type": "markdown",
   "metadata": {},
   "source": [
    "In the present simulation, this can most easily be acheived by defining an $m(t)$ which is filled with zeros and then copying each `int(f_s_sim/f_s)` value from $s(kT)$ into $m(kT)$."
   ]
  },
  {
   "cell_type": "code",
   "execution_count": null,
   "metadata": {},
   "outputs": [],
   "source": [
    "m = np.zeros(s.shape)\n",
    "m[1::int(f_s_sim/f_s)] = s[1::int(f_s_sim/f_s)]"
   ]
  },
  {
   "cell_type": "code",
   "execution_count": null,
   "metadata": {},
   "outputs": [],
   "source": [
    "fig = figure(width = 800, height = 250)\n",
    "fig.line(x = t_sim, y = s)\n",
    "fig.scatter(x = t_sim[m != 0], y = m[m != 0], color='green')\n",
    "fig.xaxis.axis_label = 't'\n",
    "fig.yaxis.axis_label = 's(t)'\n",
    "show(fig)"
   ]
  },
  {
   "cell_type": "markdown",
   "metadata": {},
   "source": [
    "To illustrate the influence on the signal spectrum, both the FFTs of the source signal $S(f)$ and $M(f)$ are computed and the ffts are shifted by `np.fft.fftshift` such that the zero frequency is in the middle of the resulting array, the largest negative frequency at the beggining and the largest positive frequency at the end of the array."
   ]
  },
  {
   "cell_type": "code",
   "execution_count": null,
   "metadata": {},
   "outputs": [],
   "source": [
    "S = np.fft.fftshift(np.fft.fft(s))\n",
    "M = np.fft.fftshift(np.fft.fft(m))"
   ]
  },
  {
   "cell_type": "markdown",
   "metadata": {},
   "source": [
    "The numpy function `np.fft.fftfreq` can be used to compute a vector of frequencies, where the FFT has been evaluated. It is also shifted by `np.fft.fftshift` to center the 0 frequency bin."
   ]
  },
  {
   "cell_type": "code",
   "execution_count": null,
   "metadata": {},
   "outputs": [],
   "source": [
    "freqs = np.fft.fftshift(np.fft.fftfreq(s.shape[0]))"
   ]
  },
  {
   "cell_type": "markdown",
   "metadata": {},
   "source": [
    "Now the FFTs can be plotted. Since the ideal PAM signal $m(t)$ contains less energy than the source signal (only a fraction of its samples has non-zero values) it can be seen that the energy contained is much smaller."
   ]
  },
  {
   "cell_type": "code",
   "execution_count": null,
   "metadata": {},
   "outputs": [],
   "source": [
    "fig = figure(width = 800, height = 300, title = 'FFT')\n",
    "fig.line(x = freqs, y = 10*np.log10(np.abs(S)), color = 'blue')\n",
    "fig.line(x = freqs, y = 10*np.log10(np.abs(M)), color = 'green')\n",
    "fig.xaxis.axis_label = 'normalized frequency f_n'\n",
    "fig.yaxis.axis_label = 'S(f_n), M(f_n)'\n",
    "show(fig)"
   ]
  },
  {
   "cell_type": "markdown",
   "metadata": {},
   "source": [
    "To focus on the shape of the spectra of source signal and modulated signal, the FFTs are normalized to their respective maximum value before plotting."
   ]
  },
  {
   "cell_type": "code",
   "execution_count": null,
   "metadata": {},
   "outputs": [],
   "source": [
    "fig = figure(width = 800, height = 300, y_range = (-20,5), title = 'Normalized FFT')\n",
    "fig.line(x = freqs, y = 10*np.log10(np.abs(S)/np.max(np.abs(S))), color = 'blue', legend = 'S(f)')\n",
    "fig.line(x = freqs, y = 10*np.log10(np.abs(M)/np.max(np.abs(M))), color = 'green', legend = 'M(f)')\n",
    "fig.xaxis.axis_label = 'normalized frequency f_n'\n",
    "fig.yaxis.axis_label = 'S(f_n), M(f_n)'\n",
    "show(fig)"
   ]
  },
  {
   "cell_type": "markdown",
   "metadata": {},
   "source": [
    "### Using real-world audio signal\n",
    "Now we import an early recording of Alaxander Graham Bell from around 1885, which was recorded on a wax-on-binder-board disc, see [link](https://www.si.edu/newsdesk/releases/hear-my-voice-smithsonian-identifies-130-year-old-recording-alexander-graham-bell-s-voice)."
   ]
  },
  {
   "cell_type": "code",
   "execution_count": null,
   "metadata": {},
   "outputs": [],
   "source": [
    "path = '../resources/apollo_13.wav'\n",
    "_, audio_raw = scipy.io.wavfile.read(path)\n",
    "audio = audio_raw[:,1]\n",
    "\n",
    "f_s_audio= 32000\n",
    "T_s_audio = 1/f_s_audio\n",
    "t_audio = T_s_audio * np.arange(0,audio.shape[0])\n",
    "\n",
    "\n",
    "fcn_audio_interpolation = scipy.interpolate.interp1d(t_audio, audio)\n",
    "\n",
    "audio = fcn_audio_interpolation(t_audio)\n"
   ]
  },
  {
   "cell_type": "code",
   "execution_count": null,
   "metadata": {},
   "outputs": [],
   "source": [
    "Audio(audio, rate=f_s_audio)"
   ]
  },
  {
   "cell_type": "code",
   "execution_count": null,
   "metadata": {},
   "outputs": [],
   "source": [
    "fig = figure(width = 800, height = 250, output_backend='webgl')\n",
    "fig.line(x=t_audio, y=audio)\n",
    "fig.xaxis.axis_label = 't'\n",
    "fig.yaxis.axis_label = 's(t)'\n",
    "show(fig)"
   ]
  },
  {
   "cell_type": "code",
   "execution_count": null,
   "metadata": {},
   "outputs": [],
   "source": [
    "fft_audio = np.fft.fftshift(np.fft.fft(audio))\n",
    "freqs_audio = np.fft.fftshift(np.fft.fftfreq(audio.shape[0], T_s_audio))"
   ]
  },
  {
   "cell_type": "markdown",
   "metadata": {},
   "source": [
    "Now apply ideal PAM"
   ]
  },
  {
   "cell_type": "code",
   "execution_count": null,
   "metadata": {},
   "outputs": [],
   "source": [
    "audio_pam = np.zeros(audio.shape)\n",
    "audio_pam[0::4] = audio[0::4]"
   ]
  },
  {
   "cell_type": "code",
   "execution_count": null,
   "metadata": {},
   "outputs": [],
   "source": [
    "fft_audio_pam = np.fft.fftshift(np.fft.fft(audio_pam))\n",
    "freqs_audio_pam = np.fft.fftshift(np.fft.fftfreq(audio_pam.shape[0], T_s_audio))"
   ]
  },
  {
   "cell_type": "markdown",
   "metadata": {},
   "source": [
    "Plot FFT"
   ]
  },
  {
   "cell_type": "code",
   "execution_count": null,
   "metadata": {},
   "outputs": [],
   "source": [
    "fig = figure(width = 800, height = 300, title = 'FFT', output_backend='webgl')\n",
    "fig.line(x = freqs_audio, y = 10*np.log10(np.abs(fft_audio)/np.max(np.abs(fft_audio))), color = 'blue', legend='original signal', alpha = 0.25)\n",
    "fig.line(x = freqs_audio_pam, y = 10*np.log10(np.abs(fft_audio_pam+0.001)/np.max(np.abs((fft_audio_pam+0.001)))), color = 'green', legend = 'PAM signal', alpha = 0.25)\n",
    "fig.xaxis.axis_label = 'normalized frequency f_n'\n",
    "fig.yaxis.axis_label = 'S(f_n), M(f_n)'\n",
    "show(fig)"
   ]
  },
  {
   "cell_type": "code",
   "execution_count": null,
   "metadata": {},
   "outputs": [],
   "source": [
    "Audio(audio_pam, rate=f_s_audio)"
   ]
  },
  {
   "cell_type": "markdown",
   "metadata": {},
   "source": [
    "## Reconstruction of Ideal PAM"
   ]
  },
  {
   "cell_type": "markdown",
   "metadata": {},
   "source": [
    "### Reconstruction In Frequency Domain\n",
    "Reconstruction in frequency domain could be achived by setting all values outside the first Nyquist zone to zero.\n",
    "The first Nyquist zone is given by the number of FFT bins vs. the simulation/PAM sampling frequency `int(f_s_sim/f_s)`"
   ]
  },
  {
   "cell_type": "code",
   "execution_count": null,
   "metadata": {},
   "outputs": [],
   "source": [
    "int(f_s_sim/f_s)\n",
    "N_FFT = len(M)\n",
    "display(N_FFT)"
   ]
  },
  {
   "cell_type": "code",
   "execution_count": null,
   "metadata": {},
   "outputs": [],
   "source": [
    "M_filter = M\n",
    "M_filter[round(len(M)/2)+int(len(M)/2/int(f_s_sim/f_s)):] = 0.01\n",
    "M_filter[0:round(len(M)/2)-int(len(M)/2/int(f_s_sim/f_s))] = 0.01"
   ]
  },
  {
   "cell_type": "code",
   "execution_count": null,
   "metadata": {},
   "outputs": [],
   "source": [
    "fig = figure(width = 800, height = 300, y_range = (-20,5))\n",
    "fig.line(x=freqs, y = 10*np.log10(np.abs(M_filter)/np.max(np.abs(M_filter))), color = 'blue', legend = 'M_filt(f)')\n",
    "#fig.line(x=freqs, y = 10*np.log10(np.abs(M)/np.max(np.abs(M))), color = 'green', legend = 'M(f)')\n",
    "show(fig)"
   ]
  },
  {
   "cell_type": "markdown",
   "metadata": {},
   "source": [
    "### Reconstruction in Time Domain"
   ]
  },
  {
   "cell_type": "markdown",
   "metadata": {},
   "source": [
    "## PAM Signal using Different Pulse Shapes"
   ]
  },
  {
   "cell_type": "code",
   "execution_count": null,
   "metadata": {},
   "outputs": [],
   "source": []
  }
 ],
 "metadata": {
  "kernelspec": {
   "display_name": "Python 3",
   "language": "python",
   "name": "python3"
  },
  "language_info": {
   "codemirror_mode": {
    "name": "ipython",
    "version": 3
   },
   "file_extension": ".py",
   "mimetype": "text/x-python",
   "name": "python",
   "nbconvert_exporter": "python",
   "pygments_lexer": "ipython3",
   "version": "3.7.3"
  }
 },
 "nbformat": 4,
 "nbformat_minor": 2
}
