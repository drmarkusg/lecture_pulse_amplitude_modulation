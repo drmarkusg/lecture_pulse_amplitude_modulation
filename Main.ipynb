{
 "cells": [
  {
   "cell_type": "markdown",
   "metadata": {},
   "source": [
    "# Lecture Notes: Pulse-Amplitude Modulation\n",
    "Markus Gardill, 2019"
   ]
  },
  {
   "cell_type": "markdown",
   "metadata": {},
   "source": [
    "## Content"
   ]
  },
  {
   "cell_type": "markdown",
   "metadata": {},
   "source": [
    "### [Modulation: General Aspects](./notebooks/Modulation_GeneralAspects.ipynb)\n",
    "- some plots for the introduction to modulation and PAM in particular"
   ]
  },
  {
   "cell_type": "markdown",
   "metadata": {},
   "source": [
    "### [PAM for Digital Transmission](./notebooks/PAM_DigitalSource.ipynb)\n",
    "- notebook for an introduciton to PAM for digital transmission"
   ]
  },
  {
   "cell_type": "markdown",
   "metadata": {},
   "source": [
    "### [PAM for Analog Source Signals](./notebooks/PAM_AnalogSource.ipynb)\n",
    "- an *incomplete* notebook illustrating PAM for analog source signals"
   ]
  }
 ],
 "metadata": {
  "kernelspec": {
   "display_name": "Python 3",
   "language": "python",
   "name": "python3"
  },
  "language_info": {
   "codemirror_mode": {
    "name": "ipython",
    "version": 3
   },
   "file_extension": ".py",
   "mimetype": "text/x-python",
   "name": "python",
   "nbconvert_exporter": "python",
   "pygments_lexer": "ipython3",
   "version": "3.7.3"
  }
 },
 "nbformat": 4,
 "nbformat_minor": 2
}
